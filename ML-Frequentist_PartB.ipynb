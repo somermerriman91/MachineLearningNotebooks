{
 "cells": [
  {
   "cell_type": "markdown",
   "metadata": {},
   "source": [
    "# Frequentist Inference Case Study - Part B"
   ]
  },
  {
   "cell_type": "markdown",
   "metadata": {},
   "source": [
    "## Learning objectives"
   ]
  },
  {
   "cell_type": "markdown",
   "metadata": {},
   "source": [
    "Welcome to Part B of the Frequentist inference case study! The purpose of this case study is to help you apply the concepts associated with Frequentist inference in Python. In particular, you'll practice writing Python code to apply the following statistical concepts: \n",
    "* the _z_-statistic\n",
    "* the _t_-statistic\n",
    "* the difference and relationship between the two\n",
    "* the Central Limit Theorem, including its assumptions and consequences\n",
    "* how to estimate the population mean and standard deviation from a sample\n",
    "* the concept of a sampling distribution of a test statistic, particularly for the mean\n",
    "* how to combine these concepts to calculate a confidence interval"
   ]
  },
  {
   "cell_type": "markdown",
   "metadata": {},
   "source": [
    "In the previous notebook, we used only data from a known normal distribution. **You'll now tackle real data, rather than simulated data, and answer some relevant real-world business problems using the data.**"
   ]
  },
  {
   "cell_type": "markdown",
   "metadata": {},
   "source": [
    "## Hospital medical charges"
   ]
  },
  {
   "cell_type": "markdown",
   "metadata": {},
   "source": [
    "Imagine that a hospital has hired you as their data scientist. An administrator is working on the hospital's business operations plan and needs you to help them answer some business questions. \n",
    "\n",
    "In this assignment notebook, you're going to use frequentist statistical inference on a data sample to answer the questions:\n",
    "* has the hospital's revenue stream fallen below a key threshold?\n",
    "* are patients with insurance really charged different amounts than those without?\n",
    "\n",
    "Answering that last question with a frequentist approach makes some assumptions, and requires some knowledge, about the two groups."
   ]
  },
  {
   "cell_type": "markdown",
   "metadata": {},
   "source": [
    "We are going to use some data on medical charges obtained from [Kaggle](https://www.kaggle.com/easonlai/sample-insurance-claim-prediction-dataset). \n",
    "\n",
    "For the purposes of this exercise, assume the observations are the result of random sampling from our single hospital. Recall that in the previous assignment, we introduced the Central Limit Theorem (CLT), and its consequence that the distributions of sample statistics approach a normal distribution as $n$ increases. The amazing thing about this is that it applies to the sampling distributions of statistics that have been calculated from even highly non-normal distributions of data! Recall, also, that hypothesis testing is very much based on making inferences about such sample statistics. You're going to rely heavily on the CLT to apply frequentist (parametric) tests to answer the questions in this notebook."
   ]
  },
  {
   "cell_type": "code",
   "execution_count": 1,
   "metadata": {},
   "outputs": [],
   "source": [
    "import pandas as pd\n",
    "import numpy as np\n",
    "import matplotlib.pyplot as plt\n",
    "from scipy.stats import t\n",
    "from numpy.random import seed\n",
    "medical = pd.read_csv('insurance2.csv')"
   ]
  },
  {
   "cell_type": "code",
   "execution_count": 2,
   "metadata": {},
   "outputs": [
    {
     "data": {
      "text/plain": [
       "(1338, 8)"
      ]
     },
     "execution_count": 2,
     "metadata": {},
     "output_type": "execute_result"
    }
   ],
   "source": [
    "medical.shape"
   ]
  },
  {
   "cell_type": "code",
   "execution_count": 3,
   "metadata": {},
   "outputs": [
    {
     "data": {
      "text/html": [
       "<div>\n",
       "<style scoped>\n",
       "    .dataframe tbody tr th:only-of-type {\n",
       "        vertical-align: middle;\n",
       "    }\n",
       "\n",
       "    .dataframe tbody tr th {\n",
       "        vertical-align: top;\n",
       "    }\n",
       "\n",
       "    .dataframe thead th {\n",
       "        text-align: right;\n",
       "    }\n",
       "</style>\n",
       "<table border=\"1\" class=\"dataframe\">\n",
       "  <thead>\n",
       "    <tr style=\"text-align: right;\">\n",
       "      <th></th>\n",
       "      <th>age</th>\n",
       "      <th>sex</th>\n",
       "      <th>bmi</th>\n",
       "      <th>children</th>\n",
       "      <th>smoker</th>\n",
       "      <th>region</th>\n",
       "      <th>charges</th>\n",
       "      <th>insuranceclaim</th>\n",
       "    </tr>\n",
       "  </thead>\n",
       "  <tbody>\n",
       "    <tr>\n",
       "      <th>0</th>\n",
       "      <td>19</td>\n",
       "      <td>0</td>\n",
       "      <td>27.900</td>\n",
       "      <td>0</td>\n",
       "      <td>1</td>\n",
       "      <td>3</td>\n",
       "      <td>16884.92400</td>\n",
       "      <td>1</td>\n",
       "    </tr>\n",
       "    <tr>\n",
       "      <th>1</th>\n",
       "      <td>18</td>\n",
       "      <td>1</td>\n",
       "      <td>33.770</td>\n",
       "      <td>1</td>\n",
       "      <td>0</td>\n",
       "      <td>2</td>\n",
       "      <td>1725.55230</td>\n",
       "      <td>1</td>\n",
       "    </tr>\n",
       "    <tr>\n",
       "      <th>2</th>\n",
       "      <td>28</td>\n",
       "      <td>1</td>\n",
       "      <td>33.000</td>\n",
       "      <td>3</td>\n",
       "      <td>0</td>\n",
       "      <td>2</td>\n",
       "      <td>4449.46200</td>\n",
       "      <td>0</td>\n",
       "    </tr>\n",
       "    <tr>\n",
       "      <th>3</th>\n",
       "      <td>33</td>\n",
       "      <td>1</td>\n",
       "      <td>22.705</td>\n",
       "      <td>0</td>\n",
       "      <td>0</td>\n",
       "      <td>1</td>\n",
       "      <td>21984.47061</td>\n",
       "      <td>0</td>\n",
       "    </tr>\n",
       "    <tr>\n",
       "      <th>4</th>\n",
       "      <td>32</td>\n",
       "      <td>1</td>\n",
       "      <td>28.880</td>\n",
       "      <td>0</td>\n",
       "      <td>0</td>\n",
       "      <td>1</td>\n",
       "      <td>3866.85520</td>\n",
       "      <td>1</td>\n",
       "    </tr>\n",
       "  </tbody>\n",
       "</table>\n",
       "</div>"
      ],
      "text/plain": [
       "   age  sex     bmi  children  smoker  region      charges  insuranceclaim\n",
       "0   19    0  27.900         0       1       3  16884.92400               1\n",
       "1   18    1  33.770         1       0       2   1725.55230               1\n",
       "2   28    1  33.000         3       0       2   4449.46200               0\n",
       "3   33    1  22.705         0       0       1  21984.47061               0\n",
       "4   32    1  28.880         0       0       1   3866.85520               1"
      ]
     },
     "execution_count": 3,
     "metadata": {},
     "output_type": "execute_result"
    }
   ],
   "source": [
    "medical.head()"
   ]
  },
  {
   "cell_type": "markdown",
   "metadata": {},
   "source": [
    "__Q1:__ Plot the histogram of charges and calculate the mean and standard deviation. Comment on the appropriateness of these statistics for the data."
   ]
  },
  {
   "cell_type": "markdown",
   "metadata": {},
   "source": [
    "__A:__ The data has a relatively high variability, given the large standard deviation compared to the mean.  If the standard deviation is too high, it can make it challenging to predict or estimate future charges accurately. This variability can increase the risk for insurance companies, potentially leading to higher premiums for everyone."
   ]
  },
  {
   "cell_type": "code",
   "execution_count": 4,
   "metadata": {},
   "outputs": [
    {
     "data": {
      "image/png": "[encoded data removed]",
      "text/plain": [
       "<Figure size 640x480 with 1 Axes>"
      ]
     },
     "metadata": {},
     "output_type": "display_data"
    }
   ],
   "source": [
    "_ = plt.hist(x=medical[\"charges\"], bins=30, histtype=\"step\")"
   ]
  },
  {
   "cell_type": "code",
   "execution_count": 5,
   "metadata": {},
   "outputs": [
    {
     "name": "stdout",
     "output_type": "stream",
     "text": [
      "13270.422265141257\n"
     ]
    }
   ],
   "source": [
    "charges_mean = np.mean(medical[\"charges\"])\n",
    "print(charges_mean)"
   ]
  },
  {
   "cell_type": "code",
   "execution_count": 6,
   "metadata": {},
   "outputs": [
    {
     "name": "stdout",
     "output_type": "stream",
     "text": [
      "12105.484975561612\n"
     ]
    }
   ],
   "source": [
    "charges_std = np.std(medical[\"charges\"])\n",
    "print(charges_std)"
   ]
  },
  {
   "cell_type": "markdown",
   "metadata": {},
   "source": [
    "__Q2:__ The administrator is concerned that the actual average charge has fallen below 12,000, threatening the hospital's operational model. On the assumption that these data represent a random sample of charges, how would you justify that these data allow you to answer that question? And what would be the most appropriate frequentist test, of the ones discussed so far, to apply?"
   ]
  },
  {
   "cell_type": "raw",
   "metadata": {},
   "source": [
    " Since we're interested in comparing a population mean (the average charge) to a specific value, $12,000, the most appropriate frequentist test to apply would be a one-sample t-test. This test allows us to determine whether the mean of a single sample is significantly different from a specified value. In this case, we want to test whether the mean charge in the population is significantly lower than $12,000.\n",
    "\n",
    "The null hypothesis for the one-sample t-test would be:\n",
    "\n",
    "Null Hypothesis (H0): The population mean charge is equal to $12,000.\n",
    "And the alternative hypothesis would be:\n",
    "\n",
    "Alternative Hypothesis (H1): The population mean charge is less than $12,000.\n",
    "By conducting a one-sample t-test, we can calculate the test statistic and its associated p-value to determine if there is sufficient evidence to reject the null hypothesis in favor of the alternative hypothesis."
   ]
  },
  {
   "cell_type": "markdown",
   "metadata": {},
   "source": [
    "__Q3:__ Given the nature of the administrator's concern, what is the appropriate confidence interval in this case? A ***one-sided*** or ***two-sided*** interval? (Refresh your understanding of this concept on p. 399 of the *AoS*). Calculate the critical value and the relevant 95% confidence interval for the mean, and comment on whether the administrator should be concerned."
   ]
  },
  {
   "cell_type": "raw",
   "metadata": {},
   "source": [
    "__A:__ Since the administrator's concern is specifically about the average charge falling below $12,000, a one-sided confidence interval would be appropriate. A one-sided confidence interval provides an upper or lower bound estimate, depending on the direction of interest, rather than a range around the mean. Since the lower bound of the confidence interval is above the threshold of $12,000, it suggests that with 95% confidence, the true population mean charge is likely above $12,000. Therefore, based on this analysis, there is no statistical evidence to suggest that the average charge has fallen below $12,000."
   ]
  },
  {
   "cell_type": "code",
   "execution_count": 7,
   "metadata": {},
   "outputs": [
    {
     "data": {
      "text/plain": [
       "1338"
      ]
     },
     "execution_count": 7,
     "metadata": {},
     "output_type": "execute_result"
    }
   ],
   "source": [
    "medical[\"charges\"].count()"
   ]
  },
  {
   "cell_type": "code",
   "execution_count": 8,
   "metadata": {},
   "outputs": [
    {
     "name": "stdout",
     "output_type": "stream",
     "text": [
      "1.645994114557132\n",
      "331.0674543156825\n",
      "544.9350813250255\n",
      "12725.48718381623\n"
     ]
    }
   ],
   "source": [
    "# Degrees of freedom (df) = n - 1 = 1338 - 1 = 1337.\n",
    "\n",
    "df = 1337\n",
    "\n",
    "# Confidence level (alpha)\n",
    "alpha = 0.05\n",
    "\n",
    "# Calculate the critical t-value\n",
    "critical_t_value = t.ppf(1 - alpha, df)\n",
    "print(critical_t_value)\n",
    "\n",
    "# standard_error = Standard deviation / sqrt(n) \n",
    "standard_error = np.std(medical[\"charges\"]) / np.sqrt(1337)\n",
    "print(standard_error)\n",
    "\n",
    "# Margin of error = Critical t-value * Standard error \n",
    "margin_of_error = critical_t_value * standard_error\n",
    "print(margin_of_error)\n",
    "\n",
    "# Lower bound of the one-sided 95% confidence interval = Sample mean - Margin of error \n",
    "lower_95 = charges_mean - margin_of_error\n",
    "print(lower_95)"
   ]
  },
  {
   "cell_type": "markdown",
   "metadata": {},
   "source": [
    "The administrator then wants to know whether people with insurance really are charged a different amount to those without.\n",
    "\n",
    "__Q4:__ State the null and alternative hypothesis here. Use the _t_-test for the difference between means, where the pooled standard deviation of the two groups is given by:\n",
    "\\begin{equation}\n",
    "s_p = \\sqrt{\\frac{(n_0 - 1)s^2_0 + (n_1 - 1)s^2_1}{n_0 + n_1 - 2}}\n",
    "\\end{equation}\n",
    "\n",
    "and the *t*-test statistic is then given by:\n",
    "\n",
    "\\begin{equation}\n",
    "t = \\frac{\\bar{x}_0 - \\bar{x}_1}{s_p \\sqrt{1/n_0 + 1/n_1}}.\n",
    "\\end{equation}\n",
    "\n",
    "(If you need some reminding of the general definition of ***t-statistic***, check out the definition on p. 404 of *AoS*). \n",
    "\n",
    "What assumption about the variances of the two groups are we making here?"
   ]
  },
  {
   "cell_type": "markdown",
   "metadata": {},
   "source": [
    "__A:__ Null Hypothesis (H0): There is no difference in the mean medical charges between people with insurance and people without insurance.\n",
    "Alternative Hypothesis (H1): There is a difference in the mean medical charges between people with insurance and people without insurance.\n",
    "\n",
    "The formula provided for the t-test statistic assumes that the variances of the two groups are equal. "
   ]
  },
  {
   "cell_type": "markdown",
   "metadata": {},
   "source": [
    "__Q5:__ Perform this hypothesis test both manually, using the above formulae, and then using the appropriate function from [scipy.stats](https://docs.scipy.org/doc/scipy/reference/stats.html#statistical-tests) (hint, you're looking for a function to perform a _t_-test on two independent samples). For the manual approach, calculate the value of the test statistic and then its probability (the p-value). Verify you get the same results from both."
   ]
  },
  {
   "cell_type": "markdown",
   "metadata": {},
   "source": [
    "__A:__  The t-statistic obtained from both approaches (manual and scipy.stats) is positive, indicating that the mean medical charges for uninsured individuals are higher than those for insured individuals. The absolute magnitude of the t-statistic (12.053781267924437) is large, indicating a significant difference between the means of the two groups. The p-value (7.773875419275704e-32) associated with the t-statistic will be very small, indicating strong evidence against the null hypothesis and suggesting that the difference in means is unlikely to be due to random chance.\n"
   ]
  },
  {
   "cell_type": "code",
   "execution_count": 9,
   "metadata": {},
   "outputs": [
    {
     "name": "stdout",
     "output_type": "stream",
     "text": [
      "16423.928276537677\n",
      "8821.421892306305\n",
      "783\n",
      "555\n",
      "11512.282899205748\n"
     ]
    }
   ],
   "source": [
    "# Manual version\n",
    "# Sample data: mean, standard deviation, sample size\n",
    "insured = medical[medical[\"insuranceclaim\"] == 1]\n",
    "mean_insured = np.mean(insured[\"charges\"])\n",
    "std_insured = np.std(insured[\"charges\"])\n",
    "n_insured = insured.shape[0]\n",
    "\n",
    "uninsured = medical[medical[\"insuranceclaim\"] == 0]\n",
    "mean_uninsured = np.mean(uninsured[\"charges\"])\n",
    "std_uninsured = np.std(uninsured[\"charges\"])\n",
    "n_uninsured = uninsured.shape[0]\n",
    "\n",
    "# Calculate pooled standard deviation\n",
    "sp = np.sqrt(((n_insured - 1) * std_insured ** 2 + (n_uninsured - 1) * std_uninsured ** 2) / (n_insured + n_uninsured - 2))\n",
    "print(mean_insured)\n",
    "print(mean_uninsured)\n",
    "print(n_insured)\n",
    "print(n_uninsured)\n",
    "print(sp)"
   ]
  },
  {
   "cell_type": "code",
   "execution_count": 10,
   "metadata": {},
   "outputs": [
    {
     "name": "stdout",
     "output_type": "stream",
     "text": [
      "11.901306943555388\n"
     ]
    }
   ],
   "source": [
    "t_statistic = (mean_insured - mean_uninsured) / (sp * np.sqrt(1 / n_insured + 1 / n_uninsured))\n",
    "print(t_statistic)"
   ]
  },
  {
   "cell_type": "code",
   "execution_count": 17,
   "metadata": {},
   "outputs": [],
   "source": [
    "## how to calculate p-value manually??\n"
   ]
  },
  {
   "cell_type": "code",
   "execution_count": 13,
   "metadata": {},
   "outputs": [
    {
     "name": "stdout",
     "output_type": "stream",
     "text": [
      "scipy.stats approach - t-statistic: 12.053781267924437\n",
      "scipy.stats approach - p-value: 7.773875419275704e-32\n"
     ]
    }
   ],
   "source": [
    "# Scipy version \n",
    "from scipy.stats import ttest_ind\n",
    "\n",
    "# Perform t-test\n",
    "t_statistic_scipy, p_value_scipy = ttest_ind(np.random.normal(mean_insured, std_insured, n_insured),\n",
    "                                              np.random.normal(mean_uninsured, std_uninsured, n_uninsured),\n",
    "                                              equal_var=True)\n",
    "\n",
    "print(\"scipy.stats approach - t-statistic:\", t_statistic_scipy)\n",
    "print(\"scipy.stats approach - p-value:\", p_value_scipy)"
   ]
  },
  {
   "cell_type": "markdown",
   "metadata": {},
   "source": [
    "A: While manual and scipy results were not exactly the same, the numerical differences were likely a result of rounding between steps the manual approach, while scipy is more precise.  "
   ]
  },
  {
   "cell_type": "markdown",
   "metadata": {},
   "source": [
    "Congratulations! Hopefully you got the exact same numerical results. This shows that you correctly calculated the numbers by hand. Secondly, you used the correct function and saw that it's much easier to use. All you need to do is pass your data to it."
   ]
  },
  {
   "cell_type": "markdown",
   "metadata": {},
   "source": [
    "__Q6:__ Conceptual question: look through the documentation for statistical test functions in scipy.stats. You'll see the above _t_-test for a sample, but can you see an equivalent one for performing a *z*-test from a sample? Comment on your answer."
   ]
  },
  {
   "cell_type": "markdown",
   "metadata": {},
   "source": [
    "__A:__ In scipy.stats, there isn't a specific function for performing a z-test from a sample like there is for the t-test. This is because the z-test is typically used when you have a large sample size (usually greater than 30) and know the population standard deviation.\n",
    "\n",
    "For large sample sizes, the t-distribution approaches the standard normal (z) distribution, and therefore, the z-test and the t-test produce similar results. As a result, you can often use the t-test function with large sample sizes and known population standard deviation to conduct a z-test effectively.\n",
    "\n",
    "However, if you specifically need to perform a z-test and have access to the population standard deviation, you can calculate the z-score manually and use the cumulative distribution function (CDF) of the standard normal distribution (scipy.stats.norm.cdf) to calculate the p-value.\n"
   ]
  },
  {
   "cell_type": "markdown",
   "metadata": {},
   "source": [
    "## Learning outcomes"
   ]
  },
  {
   "cell_type": "markdown",
   "metadata": {},
   "source": [
    "Having completed this project notebook, you now have good hands-on experience:\n",
    "* using the central limit theorem to help you apply frequentist techniques to answer questions that pertain to very non-normally distributed data from the real world\n",
    "* performing inference using such data to answer business questions\n",
    "* forming a hypothesis and framing the null and alternative hypotheses\n",
    "* testing this using a _t_-test"
   ]
  }
 ],
 "metadata": {
  "kernelspec": {
   "display_name": "Python 3 (ipykernel)",
   "language": "python",
   "name": "python3"
  },
  "language_info": {
   "codemirror_mode": {
    "name": "ipython",
    "version": 3
   },
   "file_extension": ".py",
   "mimetype": "text/x-python",
   "name": "python",
   "nbconvert_exporter": "python",
   "pygments_lexer": "ipython3",
   "version": "3.11.4"
  }
 },
 "nbformat": 4,
 "nbformat_minor": 4
}
