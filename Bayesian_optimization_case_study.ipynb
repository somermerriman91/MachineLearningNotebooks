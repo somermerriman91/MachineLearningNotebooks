{
 "cells": [
  {
   "cell_type": "markdown",
   "metadata": {
    "colab_type": "text",
    "id": "WNK7vbHo-KYU"
   },
   "source": [
    "## Bayesian methods of hyperparameter optimization"
   ]
  },
  {
   "cell_type": "markdown",
   "metadata": {
    "colab_type": "text",
    "id": "BlFdvPwF-KYW"
   },
   "source": [
    "In addition to the random search and the grid search methods for selecting optimal hyperparameters, we can use Bayesian methods of probabilities to select the optimal hyperparameters for an algorithm.\n",
    "\n",
    "In this case study, we will be using the BayesianOptimization library to perform hyperparmater tuning. This library has very good documentation which you can find here: https://github.com/fmfn/BayesianOptimization\n",
    "\n",
    "You will need to install the Bayesian optimization module. Running a cell with an exclamation point in the beginning of the command will run it as a shell command — please do this to install this module from our notebook in the cell below."
   ]
  },
  {
   "cell_type": "code",
   "execution_count": 1,
   "metadata": {
    "colab": {},
    "colab_type": "code",
    "id": "Pssx080d-Ulf"
   },
   "outputs": [
    {
     "name": "stdout",
     "output_type": "stream",
     "text": [
      "Requirement already satisfied: bayesian-optimization in /Library/Frameworks/Python.framework/Versions/3.11/lib/python3.11/site-packages (1.4.3)\n",
      "Requirement already satisfied: numpy>=1.9.0 in /Library/Frameworks/Python.framework/Versions/3.11/lib/python3.11/site-packages (from bayesian-optimization) (1.25.2)\n",
      "Requirement already satisfied: scipy>=1.0.0 in /Library/Frameworks/Python.framework/Versions/3.11/lib/python3.11/site-packages (from bayesian-optimization) (1.11.3)\n",
      "Requirement already satisfied: scikit-learn>=0.18.0 in /Library/Frameworks/Python.framework/Versions/3.11/lib/python3.11/site-packages (from bayesian-optimization) (1.3.2)\n",
      "Requirement already satisfied: colorama>=0.4.6 in /Library/Frameworks/Python.framework/Versions/3.11/lib/python3.11/site-packages (from bayesian-optimization) (0.4.6)\n",
      "Requirement already satisfied: joblib>=1.1.1 in /Library/Frameworks/Python.framework/Versions/3.11/lib/python3.11/site-packages (from scikit-learn>=0.18.0->bayesian-optimization) (1.1.1)\n",
      "Requirement already satisfied: threadpoolctl>=2.0.0 in /Library/Frameworks/Python.framework/Versions/3.11/lib/python3.11/site-packages (from scikit-learn>=0.18.0->bayesian-optimization) (3.2.0)\n",
      "Note: you may need to restart the kernel to use updated packages.\n"
     ]
    }
   ],
   "source": [
    "pip install bayesian-optimization"
   ]
  },
  {
   "cell_type": "code",
   "execution_count": 2,
   "metadata": {
    "ExecuteTime": {
     "end_time": "2019-04-22T16:39:09.312682Z",
     "start_time": "2019-04-22T16:39:09.309208Z"
    },
    "_kg_hide-input": true,
    "colab": {},
    "colab_type": "code",
    "id": "l9nfFTyj-KYY"
   },
   "outputs": [],
   "source": [
    "import warnings\n",
    "warnings.filterwarnings('ignore')\n",
    "from sklearn.preprocessing import LabelEncoder\n",
    "import numpy as np\n",
    "import pandas as pd\n",
    "import lightgbm\n",
    "from bayes_opt import BayesianOptimization\n",
    "from catboost import CatBoostClassifier, cv, Pool"
   ]
  },
  {
   "cell_type": "code",
   "execution_count": 3,
   "metadata": {
    "colab": {
     "base_uri": "https://localhost:8080/",
     "height": 85
    },
    "colab_type": "code",
    "id": "D16Dquw1AAK0",
    "outputId": "44167587-f22e-4bf5-a816-e2bcfdc6c4ee"
   },
   "outputs": [
    {
     "data": {
      "text/plain": [
       "['Confusion_Matrix.jpg',\n",
       " 'Clustering Case Study - Customer Segmentation with K-Means - Tier 1.ipynb',\n",
       " 'RRDinerCoffeeData.csv',\n",
       " 'Untitled7.ipynb',\n",
       " '03_exploratory_data_analysis.ipynb',\n",
       " 'RANDOMNUMBERS.ipynb',\n",
       " 'ML-Frequentist_PartA.ipynb',\n",
       " '7.3 Scoping Things Out.ipynb',\n",
       " 'FREECODECAMP.dictionariesandtuples.ipynb',\n",
       " 'LondonHousingCaseStudy.Tier3.ipynb',\n",
       " 'I_Robot.txt',\n",
       " 'LondonHousingCaseStudy_Tier3.ipynb',\n",
       " 'distance_dataset (1).csv',\n",
       " 'flight_delays_test.csv.zip',\n",
       " 'AI Film Scripts.ipynb',\n",
       " 'Untitled5.ipynb',\n",
       " 'wineQualityReds.csv',\n",
       " 'WestworldCounter.csv',\n",
       " 'Ts_Profile_9997.html',\n",
       " 'ML-Bayesian_Hyperparameter_Optimization.ipynb',\n",
       " 'Untitled1.ipynb',\n",
       " '2023CrimeData_DataCleaning_and_EDA.ipynb',\n",
       " '3.4 NumPy.ipynb',\n",
       " '.DS_Store',\n",
       " 'sustainable_energt.txt',\n",
       " 'flight_delays_test.csv',\n",
       " 'countries.csv',\n",
       " '5.3 2. CS Dojo If Else Statements.ipynb',\n",
       " 'London Housing Case Study - Tier 1.ipynb',\n",
       " 'dataform.jpg',\n",
       " '18.5_Data_Cleaning_Methods_Resource.ipynb',\n",
       " 'AppleStore.csv',\n",
       " '6.2 2. Socratica - Tuples.ipynb',\n",
       " '5.1 1. Matplotlib Youtube.ipynb',\n",
       " 'data+visualization+with+python.ipynb',\n",
       " 'Untitled3.ipynb',\n",
       " 'SQLTasks Tier 1.sql',\n",
       " '12.3 Jupyter Notebook Info.ipynb',\n",
       " '2023NolaOtherCheckpoint',\n",
       " 'Cosine_Similarity_Case_Study.ipynb',\n",
       " 'SQLTasksTier1.SomerMerriman.sql',\n",
       " 'Untitled.ipynb',\n",
       " 'ML-Feature_Engineering_and_Deep_Feature_Synthesis.ipynb',\n",
       " 'heart.xlsx',\n",
       " '05_modeling.ipynb',\n",
       " 'googleplaystore_user_reviews.csv',\n",
       " 'sustainable_energy.csv',\n",
       " 'ML-Frequentist_PartB.ipynb',\n",
       " 'sample_data.csv',\n",
       " 'Bayesian_optimization_case_study.ipynb',\n",
       " 'Untitled4.ipynb',\n",
       " 'ML-Regression_Model_Wine_Dataset.ipynb',\n",
       " 'ski_data_cleaned.csv',\n",
       " 'Untitled6.ipynb',\n",
       " 'CapstoneCleaningV1.csv',\n",
       " '5.5 3. Random Numbers - DataCamp.ipynb',\n",
       " '6.4 3. Collections Module.ipynb',\n",
       " 'nolacrimeraw.csv',\n",
       " '2023NolaOtherCheckpoint.csv',\n",
       " 'ski_resort_pricing_model.pkl',\n",
       " '5.4 Introduction to For Loops.ipynb',\n",
       " 'Ts_Profile_1011.html',\n",
       " '2023CrimeData_Preprocessing_Modeling.ipynb',\n",
       " 'ML-Clustering.ipynb',\n",
       " 'Nola911Calls2018.ipynb',\n",
       " 'Meteorite_Landings.csv',\n",
       " '5.5 2. Random Walks - Socratica.ipynb',\n",
       " '5.2 1. CS DOJO DICTIONARIES.ipynb',\n",
       " 'Springboard Apps project - Tier 3 - Complete.ipynb',\n",
       " '6.3 2. DataCamp - Dictionaries.ipynb',\n",
       " 'Untitled2.ipynb',\n",
       " 'manhattan.png',\n",
       " 'Seasonal_ARIMA_model_Portland_transit.ipynb',\n",
       " 'googleplaystore.csv',\n",
       " 'CapstoneDataCleaningCheckpoint2.csv',\n",
       " 'Pandas for Data Science.ipynb',\n",
       " 'state_summary_cleaned.csv',\n",
       " '5.1 2. Datacamp - Matplotlib.ipynb',\n",
       " '1593492590_RandomForest_Covid_Case_Study_06302020.zip',\n",
       " '7.7 List Comprehensions.ipynb',\n",
       " 'members.csv',\n",
       " 'README.md',\n",
       " 'distance_dataset.csv',\n",
       " 'SQLAssignment.ipynb',\n",
       " 'SMerriman.CoffeeDecisionTrees.ipynb',\n",
       " 'api_data_wrangling_mini_project_final.ipynb',\n",
       " 'flight_delays_train.csv.zip',\n",
       " 'SustainableEnergy.ipynb',\n",
       " 'flight_delays_train.csv',\n",
       " 'NolaCrime.ipynb',\n",
       " 'meteorite_data_report.html',\n",
       " 'telco_churn.csv',\n",
       " 'P_IMQ.XPT',\n",
       " 'appleStore_description.csv',\n",
       " 'logs.csv',\n",
       " 'MS-31_labels.csv',\n",
       " '.gitignore',\n",
       " '6.4 1. Collections and Counting.ipynb',\n",
       " 'titanic.csv',\n",
       " 'Ts_Profile_3002.html',\n",
       " '6.2 4. DataCamp - Data Types.ipynb',\n",
       " 'Ts_Profile_3003.html',\n",
       " 'meteorites.ipynb',\n",
       " 'insurance2.csv',\n",
       " 'make_combined_NHANES_data.py',\n",
       " '5.2 3. Intro to pandas.ipynb',\n",
       " 'ML-Cosine_Similarity.ipynb',\n",
       " 'Ts_Profile_1028.html',\n",
       " 'cervicalcancer.csv',\n",
       " '7.6 Iterators.ipynb',\n",
       " 'distance-comparison.png',\n",
       " 'Springboard Decision Tree Specialty Coffee Case Study - Tier 2.ipynb',\n",
       " 'tree.png',\n",
       " '04_preprocessing_and_training.ipynb',\n",
       " 'AI_FILM_PROJECT_MASTER.ipynb',\n",
       " 'new array.npy',\n",
       " 'ML-Gradient_Boosting_Classifier.ipynb',\n",
       " 'NOLA911FINAL.twb',\n",
       " '5.1 3. CS Dojo Data Visualization.ipynb',\n",
       " 'SustainableEnergy.csv',\n",
       " 'CapstoneDataCleaned.csv',\n",
       " 'ML-Hyperparameter_Tuning_GridSearch.ipynb',\n",
       " 'nolacrimecleanest.csv',\n",
       " '6.5 1. Dates & Times - Socratica.ipynb',\n",
       " 'CowboyCigarettesIssue.ipynb',\n",
       " 'usaairquality.ipynb',\n",
       " '3.3 Functions - CS Dojo.ipynb',\n",
       " '6.5 2 Dataclasses - DataCamp.ipynb',\n",
       " 'CapstoneDataCleaningWithMarkdown.ipynb',\n",
       " 'Springboard Regression Case Study - the Red Wine Dataset - Tier 1.ipynb',\n",
       " '7.2  Intro to writing your own functionsipynb',\n",
       " 'onelinesplit.png',\n",
       " 'fentanyldata.csv',\n",
       " '7.1 1. Writing Your Own Functions - Datacamp.ipynb',\n",
       " 'GuidedCapstoneProjectReport-SomerMerriman.pdf',\n",
       " 'Cowboy Cigarettes Case Study.ipynb',\n",
       " '.ipynb_checkpoints',\n",
       " 'ML-Decision_Trees_Coffee_Case_Study.ipynb',\n",
       " 'CowboyCigsData.csv',\n",
       " '6.2 3. Sets - Socratica.ipynb',\n",
       " 'WineKMC.xlsx',\n",
       " 'diabetes.csv',\n",
       " 'STATISTICAL.TESTS.png',\n",
       " 'ML-Random_Forest_Classifier.ipynb',\n",
       " 'api_data_wrangling_mini_project.ipynb',\n",
       " 'transactions.csv',\n",
       " 'filename.csv',\n",
       " 'PatientInfo.csv',\n",
       " 'CapstoneDataDummies.csv',\n",
       " '.git',\n",
       " 'Westworld.txt',\n",
       " 'sustainable_energy.txt',\n",
       " 'sqlite_db_pythonsqlite.db',\n",
       " '5.4 CS Dojo 6: While Loops and The Break Statement.ipynb',\n",
       " 'ski_resort_data.csv',\n",
       " 'data',\n",
       " 'ML-Logistic_Regression_Classification.ipynb',\n",
       " 'ML-Euclidean_vs_Manhattan_Distance.ipynb',\n",
       " 'School',\n",
       " 'Springboard Decision Tree Specialty Coffee Case Study - Tier 1.ipynb',\n",
       " '5.4 CS Dojo 6: While Loops.ipynb',\n",
       " 'Calls_for_Service_2023.csv',\n",
       " '6.2 1. Python Lists.ipynb',\n",
       " '6.3 1. CSV files - Socratica.ipynb',\n",
       " 'ski_data_step3_features.csv',\n",
       " 'NHANES_Select_Mean_Dietary_Intake_Estimates.csv',\n",
       " '7.4 Lambda Functions and Error Handling.ipynb',\n",
       " 'catboost_info',\n",
       " 'google_stock_data.csv',\n",
       " 'Springboard Regression Case Study - the Red Wine Dataset - Tier 2.ipynb',\n",
       " 'Springboard Apps project - Tier 1 - Complete.ipynb',\n",
       " 'Euclidean.png',\n",
       " '02_data_wrangling.ipynb',\n",
       " 'tree.dot']"
      ]
     },
     "execution_count": 3,
     "metadata": {},
     "output_type": "execute_result"
    }
   ],
   "source": [
    "import os\n",
    "os.listdir()"
   ]
  },
  {
   "cell_type": "markdown",
   "metadata": {
    "ExecuteTime": {
     "end_time": "2019-04-22T14:48:15.929012Z",
     "start_time": "2019-04-22T14:48:15.926574Z"
    },
    "colab_type": "text",
    "id": "AkBt3yds-KYu"
   },
   "source": [
    "## How does Bayesian optimization work?"
   ]
  },
  {
   "cell_type": "markdown",
   "metadata": {
    "colab_type": "text",
    "id": "E1kyBCUs-KYv"
   },
   "source": [
    "Bayesian optimization works by constructing a posterior distribution of functions (Gaussian process) that best describes the function you want to optimize. As the number of observations grows, the posterior distribution improves, and the algorithm becomes more certain of which regions in parameter space are worth exploring and which are not, as seen in the picture below."
   ]
  },
  {
   "cell_type": "markdown",
   "metadata": {
    "colab_type": "text",
    "id": "gAdHF72R-KYw"
   },
   "source": [
    "<img src=\"https://github.com/fmfn/BayesianOptimization/blob/master/examples/bo_example.png?raw=true\" />\n",
    "As you iterate over and over, the algorithm balances its needs of exploration and exploitation while taking into account what it knows about the target function. At each step, a Gaussian Process is fitted to the known samples (points previously explored), and the posterior distribution, combined with an exploration strategy (such as UCB — aka Upper Confidence Bound), or EI (Expected Improvement). This process is used to determine the next point that should be explored (see the gif below).\n",
    "<img src=\"https://github.com/fmfn/BayesianOptimization/raw/master/examples/bayesian_optimization.gif\" />"
   ]
  },
  {
   "cell_type": "markdown",
   "metadata": {
    "colab_type": "text",
    "id": "RTP8KUlLoYzu"
   },
   "source": [
    "## Let's look at a simple example"
   ]
  },
  {
   "cell_type": "markdown",
   "metadata": {
    "colab_type": "text",
    "id": "crpPqKdC-KYx"
   },
   "source": [
    "The first step is to create an optimizer. It uses two items:\n",
    "* function to optimize\n",
    "* bounds of parameters\n",
    "\n",
    "The function is the procedure that counts metrics of our model quality. The important thing is that our optimization will maximize the value on function. Smaller metrics are best. Hint: don't forget to use negative metric values."
   ]
  },
  {
   "cell_type": "markdown",
   "metadata": {
    "colab_type": "text",
    "id": "e09ciF8gpTfr"
   },
   "source": [
    "Here we define our simple function we want to optimize."
   ]
  },
  {
   "cell_type": "code",
   "execution_count": 4,
   "metadata": {
    "colab": {},
    "colab_type": "code",
    "id": "ofwvnfEwo5mG"
   },
   "outputs": [],
   "source": [
    "def simple_func(a, b):\n",
    "    return a + b"
   ]
  },
  {
   "cell_type": "markdown",
   "metadata": {
    "colab_type": "text",
    "id": "XCGsdciCpeI3"
   },
   "source": [
    "Now, we define our bounds of the parameters to optimize, within the Bayesian optimizer."
   ]
  },
  {
   "cell_type": "code",
   "execution_count": 5,
   "metadata": {
    "colab": {},
    "colab_type": "code",
    "id": "4jLYW2qnpOFr"
   },
   "outputs": [],
   "source": [
    "optimizer = BayesianOptimization(\n",
    "    simple_func,\n",
    "    {'a': (1, 3),\n",
    "    'b': (4, 7)})"
   ]
  },
  {
   "cell_type": "markdown",
   "metadata": {
    "colab_type": "text",
    "id": "dg6LdYx8pq2T"
   },
   "source": [
    "These are the main parameters of this function:\n",
    "\n",
    "* **n_iter:** This is how many steps of Bayesian optimization you want to perform. The more steps, the more likely you are to find a good maximum.\n",
    "\n",
    "* **init_points:** This is how many steps of random exploration you want to perform. Random exploration can help by diversifying the exploration space."
   ]
  },
  {
   "cell_type": "markdown",
   "metadata": {
    "colab_type": "text",
    "id": "i-GKMJ1uqMYv"
   },
   "source": [
    "Let's run an example where we use the optimizer to find the best values to maximize the target value for a and b given the inputs of 3 and 2."
   ]
  },
  {
   "cell_type": "code",
   "execution_count": 6,
   "metadata": {
    "colab": {
     "base_uri": "https://localhost:8080/",
     "height": 153
    },
    "colab_type": "code",
    "id": "Oy44Ro7wqNat",
    "outputId": "9cc64d54-b1e6-46d1-dc29-4c0039a1c72d"
   },
   "outputs": [
    {
     "name": "stdout",
     "output_type": "stream",
     "text": [
      "|   iter    |  target   |     a     |     b     |\n",
      "-------------------------------------------------\n",
      "| \u001b[0m1        \u001b[0m | \u001b[0m6.307    \u001b[0m | \u001b[0m1.133    \u001b[0m | \u001b[0m5.174    \u001b[0m |\n",
      "| \u001b[95m2        \u001b[0m | \u001b[95m6.858    \u001b[0m | \u001b[95m2.401    \u001b[0m | \u001b[95m4.457    \u001b[0m |\n",
      "| \u001b[95m3        \u001b[0m | \u001b[95m9.175    \u001b[0m | \u001b[95m2.218    \u001b[0m | \u001b[95m6.957    \u001b[0m |\n",
      "| \u001b[95m4        \u001b[0m | \u001b[95m9.908    \u001b[0m | \u001b[95m2.908    \u001b[0m | \u001b[95m7.0      \u001b[0m |\n",
      "| \u001b[0m5        \u001b[0m | \u001b[0m9.201    \u001b[0m | \u001b[0m3.0      \u001b[0m | \u001b[0m6.201    \u001b[0m |\n",
      "=================================================\n"
     ]
    }
   ],
   "source": [
    "optimizer.maximize(3,2)"
   ]
  },
  {
   "cell_type": "markdown",
   "metadata": {
    "colab_type": "text",
    "id": "tyKFMF2Hq2Sx"
   },
   "source": [
    "Great, now let's print the best parameters and the associated maximized target."
   ]
  },
  {
   "cell_type": "code",
   "execution_count": 7,
   "metadata": {
    "colab": {
     "base_uri": "https://localhost:8080/",
     "height": 51
    },
    "colab_type": "code",
    "id": "_H6DixyfscV_",
    "outputId": "fd0c35d7-e30d-4d30-9ab2-12c0fa837971"
   },
   "outputs": [
    {
     "name": "stdout",
     "output_type": "stream",
     "text": [
      "{'a': 2.9079887600249585, 'b': 7.0}\n"
     ]
    },
    {
     "data": {
      "text/plain": [
       "9.907988760024958"
      ]
     },
     "execution_count": 7,
     "metadata": {},
     "output_type": "execute_result"
    }
   ],
   "source": [
    "print(optimizer.max['params']);optimizer.max['target']"
   ]
  },
  {
   "cell_type": "markdown",
   "metadata": {
    "colab_type": "text",
    "id": "tQ1T1V6Mspi4"
   },
   "source": [
    "## Test it on real data using the Light GBM"
   ]
  },
  {
   "cell_type": "markdown",
   "metadata": {
    "colab_type": "text",
    "id": "y_oGwREZkm4h"
   },
   "source": [
    "The dataset we will be working with is the famous flight departures dataset. Our modeling goal will be to predict if a flight departure is going to be delayed by 15 minutes based on the other attributes in our dataset. As part of this modeling exercise, we will use Bayesian hyperparameter optimization to identify the best parameters for our model."
   ]
  },
  {
   "cell_type": "markdown",
   "metadata": {
    "colab_type": "text",
    "id": "abYSagjQANDZ"
   },
   "source": [
    "**<font color='teal'> You can load the zipped csv files just as you would regular csv files using Pandas read_csv. In the next cell load the train and test data into two seperate dataframes. </font>**\n"
   ]
  },
  {
   "cell_type": "code",
   "execution_count": 8,
   "metadata": {
    "colab": {},
    "colab_type": "code",
    "id": "EWKBApVuAeJe"
   },
   "outputs": [],
   "source": [
    "train_df = pd.read_csv('flight_delays_train.csv.zip')\n",
    "test_df = pd.read_csv('flight_delays_test.csv.zip')"
   ]
  },
  {
   "cell_type": "markdown",
   "metadata": {
    "colab_type": "text",
    "id": "OapNcT9Eikis"
   },
   "source": [
    "**<font color='teal'> Print the top five rows of the train dataframe and review the columns in the data. </font>**"
   ]
  },
  {
   "cell_type": "code",
   "execution_count": 10,
   "metadata": {
    "colab": {
     "base_uri": "https://localhost:8080/",
     "height": 204
    },
    "colab_type": "code",
    "id": "__4cXZ8iiYaC",
    "outputId": "8718ad4b-8955-486c-9ae8-1dee6aa6c2fb"
   },
   "outputs": [
    {
     "data": {
      "text/html": [
       "<div>\n",
       "<style scoped>\n",
       "    .dataframe tbody tr th:only-of-type {\n",
       "        vertical-align: middle;\n",
       "    }\n",
       "\n",
       "    .dataframe tbody tr th {\n",
       "        vertical-align: top;\n",
       "    }\n",
       "\n",
       "    .dataframe thead th {\n",
       "        text-align: right;\n",
       "    }\n",
       "</style>\n",
       "<table border=\"1\" class=\"dataframe\">\n",
       "  <thead>\n",
       "    <tr style=\"text-align: right;\">\n",
       "      <th></th>\n",
       "      <th>Month</th>\n",
       "      <th>DayofMonth</th>\n",
       "      <th>DayOfWeek</th>\n",
       "      <th>DepTime</th>\n",
       "      <th>UniqueCarrier</th>\n",
       "      <th>Origin</th>\n",
       "      <th>Dest</th>\n",
       "      <th>Distance</th>\n",
       "      <th>dep_delayed_15min</th>\n",
       "    </tr>\n",
       "  </thead>\n",
       "  <tbody>\n",
       "    <tr>\n",
       "      <th>0</th>\n",
       "      <td>c-8</td>\n",
       "      <td>c-21</td>\n",
       "      <td>c-7</td>\n",
       "      <td>1934</td>\n",
       "      <td>AA</td>\n",
       "      <td>ATL</td>\n",
       "      <td>DFW</td>\n",
       "      <td>732</td>\n",
       "      <td>N</td>\n",
       "    </tr>\n",
       "    <tr>\n",
       "      <th>1</th>\n",
       "      <td>c-4</td>\n",
       "      <td>c-20</td>\n",
       "      <td>c-3</td>\n",
       "      <td>1548</td>\n",
       "      <td>US</td>\n",
       "      <td>PIT</td>\n",
       "      <td>MCO</td>\n",
       "      <td>834</td>\n",
       "      <td>N</td>\n",
       "    </tr>\n",
       "    <tr>\n",
       "      <th>2</th>\n",
       "      <td>c-9</td>\n",
       "      <td>c-2</td>\n",
       "      <td>c-5</td>\n",
       "      <td>1422</td>\n",
       "      <td>XE</td>\n",
       "      <td>RDU</td>\n",
       "      <td>CLE</td>\n",
       "      <td>416</td>\n",
       "      <td>N</td>\n",
       "    </tr>\n",
       "    <tr>\n",
       "      <th>3</th>\n",
       "      <td>c-11</td>\n",
       "      <td>c-25</td>\n",
       "      <td>c-6</td>\n",
       "      <td>1015</td>\n",
       "      <td>OO</td>\n",
       "      <td>DEN</td>\n",
       "      <td>MEM</td>\n",
       "      <td>872</td>\n",
       "      <td>N</td>\n",
       "    </tr>\n",
       "    <tr>\n",
       "      <th>4</th>\n",
       "      <td>c-10</td>\n",
       "      <td>c-7</td>\n",
       "      <td>c-6</td>\n",
       "      <td>1828</td>\n",
       "      <td>WN</td>\n",
       "      <td>MDW</td>\n",
       "      <td>OMA</td>\n",
       "      <td>423</td>\n",
       "      <td>Y</td>\n",
       "    </tr>\n",
       "  </tbody>\n",
       "</table>\n",
       "</div>"
      ],
      "text/plain": [
       "  Month DayofMonth DayOfWeek  DepTime UniqueCarrier Origin Dest  Distance  \\\n",
       "0   c-8       c-21       c-7     1934            AA    ATL  DFW       732   \n",
       "1   c-4       c-20       c-3     1548            US    PIT  MCO       834   \n",
       "2   c-9        c-2       c-5     1422            XE    RDU  CLE       416   \n",
       "3  c-11       c-25       c-6     1015            OO    DEN  MEM       872   \n",
       "4  c-10        c-7       c-6     1828            WN    MDW  OMA       423   \n",
       "\n",
       "  dep_delayed_15min  \n",
       "0                 N  \n",
       "1                 N  \n",
       "2                 N  \n",
       "3                 N  \n",
       "4                 Y  "
      ]
     },
     "execution_count": 10,
     "metadata": {},
     "output_type": "execute_result"
    }
   ],
   "source": [
    "train_df.head()"
   ]
  },
  {
   "cell_type": "markdown",
   "metadata": {
    "colab_type": "text",
    "id": "UxGBsPQhffgd"
   },
   "source": [
    "**<font color='teal'> Use the describe function to review the numeric columns in the train dataframe. </font>**"
   ]
  },
  {
   "cell_type": "code",
   "execution_count": 11,
   "metadata": {
    "colab": {
     "base_uri": "https://localhost:8080/",
     "height": 297
    },
    "colab_type": "code",
    "id": "_bRRKG3DAtae",
    "outputId": "7cfb9975-ec97-422c-abbd-98923a0b7aec"
   },
   "outputs": [
    {
     "data": {
      "text/html": [
       "<div>\n",
       "<style scoped>\n",
       "    .dataframe tbody tr th:only-of-type {\n",
       "        vertical-align: middle;\n",
       "    }\n",
       "\n",
       "    .dataframe tbody tr th {\n",
       "        vertical-align: top;\n",
       "    }\n",
       "\n",
       "    .dataframe thead th {\n",
       "        text-align: right;\n",
       "    }\n",
       "</style>\n",
       "<table border=\"1\" class=\"dataframe\">\n",
       "  <thead>\n",
       "    <tr style=\"text-align: right;\">\n",
       "      <th></th>\n",
       "      <th>DepTime</th>\n",
       "      <th>Distance</th>\n",
       "    </tr>\n",
       "  </thead>\n",
       "  <tbody>\n",
       "    <tr>\n",
       "      <th>count</th>\n",
       "      <td>100000.000000</td>\n",
       "      <td>100000.00000</td>\n",
       "    </tr>\n",
       "    <tr>\n",
       "      <th>mean</th>\n",
       "      <td>1341.523880</td>\n",
       "      <td>729.39716</td>\n",
       "    </tr>\n",
       "    <tr>\n",
       "      <th>std</th>\n",
       "      <td>476.378445</td>\n",
       "      <td>574.61686</td>\n",
       "    </tr>\n",
       "    <tr>\n",
       "      <th>min</th>\n",
       "      <td>1.000000</td>\n",
       "      <td>30.00000</td>\n",
       "    </tr>\n",
       "    <tr>\n",
       "      <th>25%</th>\n",
       "      <td>931.000000</td>\n",
       "      <td>317.00000</td>\n",
       "    </tr>\n",
       "    <tr>\n",
       "      <th>50%</th>\n",
       "      <td>1330.000000</td>\n",
       "      <td>575.00000</td>\n",
       "    </tr>\n",
       "    <tr>\n",
       "      <th>75%</th>\n",
       "      <td>1733.000000</td>\n",
       "      <td>957.00000</td>\n",
       "    </tr>\n",
       "    <tr>\n",
       "      <th>max</th>\n",
       "      <td>2534.000000</td>\n",
       "      <td>4962.00000</td>\n",
       "    </tr>\n",
       "  </tbody>\n",
       "</table>\n",
       "</div>"
      ],
      "text/plain": [
       "             DepTime      Distance\n",
       "count  100000.000000  100000.00000\n",
       "mean     1341.523880     729.39716\n",
       "std       476.378445     574.61686\n",
       "min         1.000000      30.00000\n",
       "25%       931.000000     317.00000\n",
       "50%      1330.000000     575.00000\n",
       "75%      1733.000000     957.00000\n",
       "max      2534.000000    4962.00000"
      ]
     },
     "execution_count": 11,
     "metadata": {},
     "output_type": "execute_result"
    }
   ],
   "source": [
    "train_df.describe()"
   ]
  },
  {
   "cell_type": "markdown",
   "metadata": {
    "colab_type": "text",
    "id": "i6k-_fI5Aiyh"
   },
   "source": [
    "Notice, `DepTime` is the departure time in a numeric representation in 2400 hours. "
   ]
  },
  {
   "cell_type": "markdown",
   "metadata": {
    "colab_type": "text",
    "id": "gtZS4-hrlQah"
   },
   "source": [
    " **<font color='teal'>The response variable is 'dep_delayed_15min' which is a categorical column, so we need to map the Y for yes and N for no values to 1 and 0. Run the code in the next cell to do this.</font>**"
   ]
  },
  {
   "cell_type": "code",
   "execution_count": 12,
   "metadata": {
    "ExecuteTime": {
     "end_time": "2019-04-22T15:38:42.677690Z",
     "start_time": "2019-04-22T15:38:42.481963Z"
    },
    "colab": {},
    "colab_type": "code",
    "id": "yRlOTbnW-KYc"
   },
   "outputs": [],
   "source": [
    "#train_df = train_df[train_df.DepTime <= 2400].copy()\n",
    "y_train = train_df['dep_delayed_15min'].map({'Y': 1, 'N': 0}).values"
   ]
  },
  {
   "cell_type": "markdown",
   "metadata": {
    "colab_type": "text",
    "id": "z3WPkFQO9uo9"
   },
   "source": [
    "## Feature Engineering\n",
    "Use these defined functions to create additional features for the model. Run the cell to add the functions to your workspace."
   ]
  },
  {
   "cell_type": "code",
   "execution_count": 13,
   "metadata": {
    "colab": {},
    "colab_type": "code",
    "id": "cXqsqz5W9t3r"
   },
   "outputs": [],
   "source": [
    "def label_enc(df_column):\n",
    "    df_column = LabelEncoder().fit_transform(df_column)\n",
    "    return df_column\n",
    "\n",
    "def make_harmonic_features_sin(value, period=2400):\n",
    "    value *= 2 * np.pi / period \n",
    "    return np.sin(value)\n",
    "\n",
    "def make_harmonic_features_cos(value, period=2400):\n",
    "    value *= 2 * np.pi / period \n",
    "    return np.cos(value)\n",
    "\n",
    "def feature_eng(df):\n",
    "    df['flight'] = df['Origin']+df['Dest']\n",
    "    df['Month'] = df.Month.map(lambda x: x.split('-')[-1]).astype('int32')\n",
    "    df['DayofMonth'] = df.DayofMonth.map(lambda x: x.split('-')[-1]).astype('uint8')\n",
    "    df['begin_of_month'] = (df['DayofMonth'] < 10).astype('uint8')\n",
    "    df['midddle_of_month'] = ((df['DayofMonth'] >= 10)&(df['DayofMonth'] < 20)).astype('uint8')\n",
    "    df['end_of_month'] = (df['DayofMonth'] >= 20).astype('uint8')\n",
    "    df['DayOfWeek'] = df.DayOfWeek.map(lambda x: x.split('-')[-1]).astype('uint8')\n",
    "    df['hour'] = df.DepTime.map(lambda x: x/100).astype('int32')\n",
    "    df['morning'] = df['hour'].map(lambda x: 1 if (x <= 11)& (x >= 7) else 0).astype('uint8')\n",
    "    df['day'] = df['hour'].map(lambda x: 1 if (x >= 12) & (x <= 18) else 0).astype('uint8')\n",
    "    df['evening'] = df['hour'].map(lambda x: 1 if (x >= 19) & (x <= 23) else 0).astype('uint8')\n",
    "    df['night'] = df['hour'].map(lambda x: 1 if (x >= 0) & (x <= 6) else 0).astype('int32')\n",
    "    df['winter'] = df['Month'].map(lambda x: x in [12, 1, 2]).astype('int32')\n",
    "    df['spring'] = df['Month'].map(lambda x: x in [3, 4, 5]).astype('int32')\n",
    "    df['summer'] = df['Month'].map(lambda x: x in [6, 7, 8]).astype('int32')\n",
    "    df['autumn'] = df['Month'].map(lambda x: x in [9, 10, 11]).astype('int32')\n",
    "    df['holiday'] = (df['DayOfWeek'] >= 5).astype(int) \n",
    "    df['weekday'] = (df['DayOfWeek'] < 5).astype(int)\n",
    "    df['airport_dest_per_month'] = df.groupby(['Dest', 'Month'])['Dest'].transform('count')\n",
    "    df['airport_origin_per_month'] = df.groupby(['Origin', 'Month'])['Origin'].transform('count')\n",
    "    df['airport_dest_count'] = df.groupby(['Dest'])['Dest'].transform('count')\n",
    "    df['airport_origin_count'] = df.groupby(['Origin'])['Origin'].transform('count')\n",
    "    df['carrier_count'] = df.groupby(['UniqueCarrier'])['Dest'].transform('count')\n",
    "    df['carrier_count_per month'] = df.groupby(['UniqueCarrier', 'Month'])['Dest'].transform('count')\n",
    "    df['deptime_cos'] = df['DepTime'].map(make_harmonic_features_cos)\n",
    "    df['deptime_sin'] = df['DepTime'].map(make_harmonic_features_sin)\n",
    "    df['flightUC'] = df['flight']+df['UniqueCarrier']\n",
    "    df['DestUC'] = df['Dest']+df['UniqueCarrier']\n",
    "    df['OriginUC'] = df['Origin']+df['UniqueCarrier']\n",
    "    return df.drop('DepTime', axis=1)"
   ]
  },
  {
   "cell_type": "markdown",
   "metadata": {
    "colab_type": "text",
    "id": "-BYbxXpU-FGE"
   },
   "source": [
    "Concatenate the training and testing dataframes.\n"
   ]
  },
  {
   "cell_type": "code",
   "execution_count": 14,
   "metadata": {
    "colab": {},
    "colab_type": "code",
    "id": "Cj6bfSNw_RAf"
   },
   "outputs": [],
   "source": [
    "full_df = pd.concat([train_df.drop('dep_delayed_15min', axis=1), test_df])\n",
    "full_df = feature_eng(full_df)"
   ]
  },
  {
   "cell_type": "markdown",
   "metadata": {
    "colab_type": "text",
    "id": "GSO8JbfM_W-F"
   },
   "source": [
    "Apply the earlier defined feature engineering functions to the full dataframe."
   ]
  },
  {
   "cell_type": "code",
   "execution_count": 15,
   "metadata": {
    "colab": {},
    "colab_type": "code",
    "id": "x6RfAINftjwi"
   },
   "outputs": [],
   "source": [
    "for column in ['UniqueCarrier', 'Origin', 'Dest','flight',  'flightUC', 'DestUC', 'OriginUC']:\n",
    "    full_df[column] = label_enc(full_df[column])"
   ]
  },
  {
   "cell_type": "markdown",
   "metadata": {
    "colab_type": "text",
    "id": "IJAw1RGB_ZuM"
   },
   "source": [
    "\n",
    "Split the new full dataframe into X_train and X_test. "
   ]
  },
  {
   "cell_type": "code",
   "execution_count": 17,
   "metadata": {
    "colab": {},
    "colab_type": "code",
    "id": "15cPtQU5tjfz"
   },
   "outputs": [],
   "source": [
    "X_train = full_df[:train_df.shape[0]]\n",
    "X_test = full_df[train_df.shape[0]:]"
   ]
  },
  {
   "cell_type": "markdown",
   "metadata": {
    "colab_type": "text",
    "id": "umfAw-9JErLV"
   },
   "source": [
    "Create a list of the categorical features."
   ]
  },
  {
   "cell_type": "code",
   "execution_count": 18,
   "metadata": {
    "ExecuteTime": {
     "end_time": "2019-04-22T14:31:58.412296Z",
     "start_time": "2019-04-22T14:31:58.409088Z"
    },
    "colab": {},
    "colab_type": "code",
    "id": "5ibeVyNb-KZI"
   },
   "outputs": [],
   "source": [
    "categorical_features = ['Month',  'DayOfWeek', 'UniqueCarrier', 'Origin', 'Dest','flight',  'flightUC', 'DestUC', 'OriginUC']"
   ]
  },
  {
   "cell_type": "markdown",
   "metadata": {
    "colab_type": "text",
    "id": "NzMIsMPIETVk"
   },
   "source": [
    "Let's build a light GBM model to test the bayesian optimizer."
   ]
  },
  {
   "cell_type": "markdown",
   "metadata": {
    "ExecuteTime": {
     "end_time": "2019-04-22T15:18:04.466965Z",
     "start_time": "2019-04-22T15:18:04.457992Z"
    },
    "colab_type": "text",
    "id": "2hfm1i5G-KZH"
   },
   "source": [
    "### [LightGBM](https://lightgbm.readthedocs.io/en/latest/) is a gradient boosting framework that uses tree-based learning algorithms. It is designed to be distributed and efficient with the following advantages:\n",
    "\n",
    "* Faster training speed and higher efficiency.\n",
    "* Lower memory usage.\n",
    "* Better accuracy.\n",
    "* Support of parallel and GPU learning.\n",
    "* Capable of handling large-scale data."
   ]
  },
  {
   "cell_type": "markdown",
   "metadata": {
    "colab_type": "text",
    "id": "jf-3F2Wg-KZL"
   },
   "source": [
    "First, we define the function we want to maximize and that will count cross-validation metrics of lightGBM for our parameters.\n",
    "\n",
    "Some params such as num_leaves, max_depth, min_child_samples, min_data_in_leaf should be integers."
   ]
  },
  {
   "cell_type": "code",
   "execution_count": 28,
   "metadata": {
    "ExecuteTime": {
     "end_time": "2019-04-22T15:40:14.034265Z",
     "start_time": "2019-04-22T15:40:14.027868Z"
    },
    "colab": {},
    "colab_type": "code",
    "id": "LyUJBhGX-KZM"
   },
   "outputs": [],
   "source": [
    "# def lgb_eval(num_leaves,max_depth,lambda_l2,lambda_l1,min_child_samples, min_data_in_leaf):\n",
    "#     params = {\n",
    "#         \"objective\" : \"binary\",\n",
    "#         \"metric\" : \"auc\", \n",
    "#         'is_unbalance': True,\n",
    "#         \"num_leaves\" : int(num_leaves),\n",
    "#         \"max_depth\" : int(max_depth),\n",
    "#         \"lambda_l2\" : lambda_l2,\n",
    "#         \"lambda_l1\" : lambda_l1,\n",
    "#         \"num_threads\" : 20,\n",
    "#         \"min_child_samples\" : int(min_child_samples),\n",
    "#         'min_data_in_leaf': int(min_data_in_leaf),\n",
    "#         \"learning_rate\" : 0.03,\n",
    "#         \"subsample_freq\" : 5,\n",
    "#         \"bagging_seed\" : 42,\n",
    "#         \"verbosity\" : -1\n",
    "#     }\n",
    "#     lgtrain = lightgbm.Dataset(X_train, y_train,categorical_feature=categorical_features)\n",
    "#     cv_result = lightgbm.cv(params,\n",
    "#                        lgtrain,\n",
    "#                        1000,\n",
    "#                        stratified=True,\n",
    "#                        nfold=3)\n",
    "#     return cv_result['auc-mean'][-1]"
   ]
  },
  {
   "cell_type": "markdown",
   "metadata": {
    "colab_type": "text",
    "id": "FJwqBhdeF11Q"
   },
   "source": [
    "Apply the Bayesian optimizer to the function we created in the previous step to identify the best hyperparameters. We will run 10 iterations and set init_points = 2.\n"
   ]
  },
  {
   "cell_type": "code",
   "execution_count": 29,
   "metadata": {
    "ExecuteTime": {
     "end_time": "2019-04-22T15:48:04.682447Z",
     "start_time": "2019-04-22T15:40:14.641634Z"
    },
    "colab": {
     "base_uri": "https://localhost:8080/",
     "height": 51
    },
    "colab_type": "code",
    "id": "JheCOkUE-KZP",
    "outputId": "8f37ee51-885d-44e4-cdcd-ceb7abd58b61"
   },
   "outputs": [
    {
     "name": "stdout",
     "output_type": "stream",
     "text": [
      "|   iter    |  target   | lambda_l1 | lambda_l2 | max_depth | min_ch... | min_da... | num_le... |\n",
      "-------------------------------------------------------------------------------------------------\n"
     ]
    },
    {
     "ename": "KeyError",
     "evalue": "'auc-mean'",
     "output_type": "error",
     "traceback": [
      "\u001b[0;31m---------------------------------------------------------------------------\u001b[0m",
      "\u001b[0;31mKeyError\u001b[0m                                  Traceback (most recent call last)",
      "Cell \u001b[0;32mIn[29], line 9\u001b[0m\n\u001b[1;32m      1\u001b[0m lgbBO \u001b[38;5;241m=\u001b[39m BayesianOptimization(lgb_eval, {\u001b[38;5;124m'\u001b[39m\u001b[38;5;124mnum_leaves\u001b[39m\u001b[38;5;124m'\u001b[39m: (\u001b[38;5;241m25\u001b[39m, \u001b[38;5;241m4000\u001b[39m),\n\u001b[1;32m      2\u001b[0m                                                 \u001b[38;5;124m'\u001b[39m\u001b[38;5;124mmax_depth\u001b[39m\u001b[38;5;124m'\u001b[39m: (\u001b[38;5;241m5\u001b[39m, \u001b[38;5;241m63\u001b[39m),\n\u001b[1;32m      3\u001b[0m                                                 \u001b[38;5;124m'\u001b[39m\u001b[38;5;124mlambda_l2\u001b[39m\u001b[38;5;124m'\u001b[39m: (\u001b[38;5;241m0.0\u001b[39m, \u001b[38;5;241m0.05\u001b[39m),\n\u001b[0;32m   (...)\u001b[0m\n\u001b[1;32m      6\u001b[0m                                                 \u001b[38;5;124m'\u001b[39m\u001b[38;5;124mmin_data_in_leaf\u001b[39m\u001b[38;5;124m'\u001b[39m: (\u001b[38;5;241m100\u001b[39m, \u001b[38;5;241m2000\u001b[39m)\n\u001b[1;32m      7\u001b[0m                                                 })\n\u001b[0;32m----> 9\u001b[0m \u001b[43mlgbBO\u001b[49m\u001b[38;5;241;43m.\u001b[39;49m\u001b[43mmaximize\u001b[49m\u001b[43m(\u001b[49m\u001b[43mn_iter\u001b[49m\u001b[38;5;241;43m=\u001b[39;49m\u001b[38;5;241;43m10\u001b[39;49m\u001b[43m,\u001b[49m\u001b[43m \u001b[49m\u001b[43minit_points\u001b[49m\u001b[38;5;241;43m=\u001b[39;49m\u001b[38;5;241;43m2\u001b[39;49m\u001b[43m)\u001b[49m\n",
      "File \u001b[0;32m/Library/Frameworks/Python.framework/Versions/3.11/lib/python3.11/site-packages/bayes_opt/bayesian_optimization.py:310\u001b[0m, in \u001b[0;36mBayesianOptimization.maximize\u001b[0;34m(self, init_points, n_iter, acquisition_function, acq, kappa, kappa_decay, kappa_decay_delay, xi, **gp_params)\u001b[0m\n\u001b[1;32m    308\u001b[0m     x_probe \u001b[38;5;241m=\u001b[39m \u001b[38;5;28mself\u001b[39m\u001b[38;5;241m.\u001b[39msuggest(util)\n\u001b[1;32m    309\u001b[0m     iteration \u001b[38;5;241m+\u001b[39m\u001b[38;5;241m=\u001b[39m \u001b[38;5;241m1\u001b[39m\n\u001b[0;32m--> 310\u001b[0m \u001b[38;5;28;43mself\u001b[39;49m\u001b[38;5;241;43m.\u001b[39;49m\u001b[43mprobe\u001b[49m\u001b[43m(\u001b[49m\u001b[43mx_probe\u001b[49m\u001b[43m,\u001b[49m\u001b[43m \u001b[49m\u001b[43mlazy\u001b[49m\u001b[38;5;241;43m=\u001b[39;49m\u001b[38;5;28;43;01mFalse\u001b[39;49;00m\u001b[43m)\u001b[49m\n\u001b[1;32m    312\u001b[0m \u001b[38;5;28;01mif\u001b[39;00m \u001b[38;5;28mself\u001b[39m\u001b[38;5;241m.\u001b[39m_bounds_transformer \u001b[38;5;129;01mand\u001b[39;00m iteration \u001b[38;5;241m>\u001b[39m \u001b[38;5;241m0\u001b[39m:\n\u001b[1;32m    313\u001b[0m     \u001b[38;5;66;03m# The bounds transformer should only modify the bounds after\u001b[39;00m\n\u001b[1;32m    314\u001b[0m     \u001b[38;5;66;03m# the init_points points (only for the true iterations)\u001b[39;00m\n\u001b[1;32m    315\u001b[0m     \u001b[38;5;28mself\u001b[39m\u001b[38;5;241m.\u001b[39mset_bounds(\n\u001b[1;32m    316\u001b[0m         \u001b[38;5;28mself\u001b[39m\u001b[38;5;241m.\u001b[39m_bounds_transformer\u001b[38;5;241m.\u001b[39mtransform(\u001b[38;5;28mself\u001b[39m\u001b[38;5;241m.\u001b[39m_space))\n",
      "File \u001b[0;32m/Library/Frameworks/Python.framework/Versions/3.11/lib/python3.11/site-packages/bayes_opt/bayesian_optimization.py:208\u001b[0m, in \u001b[0;36mBayesianOptimization.probe\u001b[0;34m(self, params, lazy)\u001b[0m\n\u001b[1;32m    206\u001b[0m     \u001b[38;5;28mself\u001b[39m\u001b[38;5;241m.\u001b[39m_queue\u001b[38;5;241m.\u001b[39madd(params)\n\u001b[1;32m    207\u001b[0m \u001b[38;5;28;01melse\u001b[39;00m:\n\u001b[0;32m--> 208\u001b[0m     \u001b[38;5;28;43mself\u001b[39;49m\u001b[38;5;241;43m.\u001b[39;49m\u001b[43m_space\u001b[49m\u001b[38;5;241;43m.\u001b[39;49m\u001b[43mprobe\u001b[49m\u001b[43m(\u001b[49m\u001b[43mparams\u001b[49m\u001b[43m)\u001b[49m\n\u001b[1;32m    209\u001b[0m     \u001b[38;5;28mself\u001b[39m\u001b[38;5;241m.\u001b[39mdispatch(Events\u001b[38;5;241m.\u001b[39mOPTIMIZATION_STEP)\n",
      "File \u001b[0;32m/Library/Frameworks/Python.framework/Versions/3.11/lib/python3.11/site-packages/bayes_opt/target_space.py:236\u001b[0m, in \u001b[0;36mTargetSpace.probe\u001b[0;34m(self, params)\u001b[0m\n\u001b[1;32m    234\u001b[0m x \u001b[38;5;241m=\u001b[39m \u001b[38;5;28mself\u001b[39m\u001b[38;5;241m.\u001b[39m_as_array(params)\n\u001b[1;32m    235\u001b[0m params \u001b[38;5;241m=\u001b[39m \u001b[38;5;28mdict\u001b[39m(\u001b[38;5;28mzip\u001b[39m(\u001b[38;5;28mself\u001b[39m\u001b[38;5;241m.\u001b[39m_keys, x))\n\u001b[0;32m--> 236\u001b[0m target \u001b[38;5;241m=\u001b[39m \u001b[38;5;28;43mself\u001b[39;49m\u001b[38;5;241;43m.\u001b[39;49m\u001b[43mtarget_func\u001b[49m\u001b[43m(\u001b[49m\u001b[38;5;241;43m*\u001b[39;49m\u001b[38;5;241;43m*\u001b[39;49m\u001b[43mparams\u001b[49m\u001b[43m)\u001b[49m\n\u001b[1;32m    238\u001b[0m \u001b[38;5;28;01mif\u001b[39;00m \u001b[38;5;28mself\u001b[39m\u001b[38;5;241m.\u001b[39m_constraint \u001b[38;5;129;01mis\u001b[39;00m \u001b[38;5;28;01mNone\u001b[39;00m:\n\u001b[1;32m    239\u001b[0m     \u001b[38;5;28mself\u001b[39m\u001b[38;5;241m.\u001b[39mregister(x, target)\n",
      "Cell \u001b[0;32mIn[28], line 24\u001b[0m, in \u001b[0;36mlgb_eval\u001b[0;34m(num_leaves, max_depth, lambda_l2, lambda_l1, min_child_samples, min_data_in_leaf)\u001b[0m\n\u001b[1;32m     18\u001b[0m lgtrain \u001b[38;5;241m=\u001b[39m lightgbm\u001b[38;5;241m.\u001b[39mDataset(X_train, y_train,categorical_feature\u001b[38;5;241m=\u001b[39mcategorical_features)\n\u001b[1;32m     19\u001b[0m cv_result \u001b[38;5;241m=\u001b[39m lightgbm\u001b[38;5;241m.\u001b[39mcv(params,\n\u001b[1;32m     20\u001b[0m                    lgtrain,\n\u001b[1;32m     21\u001b[0m                    \u001b[38;5;241m1000\u001b[39m,\n\u001b[1;32m     22\u001b[0m                    stratified\u001b[38;5;241m=\u001b[39m\u001b[38;5;28;01mTrue\u001b[39;00m,\n\u001b[1;32m     23\u001b[0m                    nfold\u001b[38;5;241m=\u001b[39m\u001b[38;5;241m3\u001b[39m)\n\u001b[0;32m---> 24\u001b[0m \u001b[38;5;28;01mreturn\u001b[39;00m \u001b[43mcv_result\u001b[49m\u001b[43m[\u001b[49m\u001b[38;5;124;43m'\u001b[39;49m\u001b[38;5;124;43mauc-mean\u001b[39;49m\u001b[38;5;124;43m'\u001b[39;49m\u001b[43m]\u001b[49m[\u001b[38;5;241m-\u001b[39m\u001b[38;5;241m1\u001b[39m]\n",
      "\u001b[0;31mKeyError\u001b[0m: 'auc-mean'"
     ]
    }
   ],
   "source": [
    "# lgbBO = BayesianOptimization(lgb_eval, {'num_leaves': (25, 4000),\n",
    "#                                                 'max_depth': (5, 63),\n",
    "#                                                 'lambda_l2': (0.0, 0.05),\n",
    "#                                                 'lambda_l1': (0.0, 0.05),\n",
    "#                                                 'min_child_samples': (50, 10000),\n",
    "#                                                 'min_data_in_leaf': (100, 2000)\n",
    "#                                                 })\n",
    "\n",
    "# lgbBO.maximize(n_iter=10, init_points=2)"
   ]
  },
  {
   "cell_type": "code",
   "execution_count": 30,
   "metadata": {},
   "outputs": [
    {
     "name": "stdout",
     "output_type": "stream",
     "text": [
      "|   iter    |  target   | lambda_l1 | lambda_l2 | max_depth | min_ch... | min_da... | num_le... |\n",
      "-------------------------------------------------------------------------------------------------\n",
      "KeyError: 'auc-mean' not found in cv_result. Returning 0.\n",
      "| \u001b[0m1        \u001b[0m | \u001b[0m0.0      \u001b[0m | \u001b[0m0.009736 \u001b[0m | \u001b[0m0.03396  \u001b[0m | \u001b[0m46.07    \u001b[0m | \u001b[0m8.99e+03 \u001b[0m | \u001b[0m1.131e+03\u001b[0m | \u001b[0m2.087e+03\u001b[0m |\n",
      "KeyError: 'auc-mean' not found in cv_result. Returning 0.\n",
      "| \u001b[0m2        \u001b[0m | \u001b[0m0.0      \u001b[0m | \u001b[0m0.008661 \u001b[0m | \u001b[0m0.03367  \u001b[0m | \u001b[0m39.11    \u001b[0m | \u001b[0m7.613e+03\u001b[0m | \u001b[0m1.871e+03\u001b[0m | \u001b[0m3.737e+03\u001b[0m |\n",
      "KeyError: 'auc-mean' not found in cv_result. Returning 0.\n",
      "| \u001b[0m3        \u001b[0m | \u001b[0m0.0      \u001b[0m | \u001b[0m0.009011 \u001b[0m | \u001b[0m0.03767  \u001b[0m | \u001b[0m19.06    \u001b[0m | \u001b[0m52.27    \u001b[0m | \u001b[0m236.6    \u001b[0m | \u001b[0m310.7    \u001b[0m |\n",
      "KeyError: 'auc-mean' not found in cv_result. Returning 0.\n",
      "| \u001b[0m4        \u001b[0m | \u001b[0m0.0      \u001b[0m | \u001b[0m0.02104  \u001b[0m | \u001b[0m0.02741  \u001b[0m | \u001b[0m13.57    \u001b[0m | \u001b[0m1.801e+03\u001b[0m | \u001b[0m1.999e+03\u001b[0m | \u001b[0m34.51    \u001b[0m |\n",
      "KeyError: 'auc-mean' not found in cv_result. Returning 0.\n",
      "| \u001b[0m5        \u001b[0m | \u001b[0m0.0      \u001b[0m | \u001b[0m0.02354  \u001b[0m | \u001b[0m0.03479  \u001b[0m | \u001b[0m57.82    \u001b[0m | \u001b[0m5.191e+03\u001b[0m | \u001b[0m756.2    \u001b[0m | \u001b[0m2.457e+03\u001b[0m |\n",
      "KeyError: 'auc-mean' not found in cv_result. Returning 0.\n",
      "| \u001b[0m6        \u001b[0m | \u001b[0m0.0      \u001b[0m | \u001b[0m0.0464   \u001b[0m | \u001b[0m0.02773  \u001b[0m | \u001b[0m29.92    \u001b[0m | \u001b[0m288.3    \u001b[0m | \u001b[0m1.934e+03\u001b[0m | \u001b[0m3.968e+03\u001b[0m |\n",
      "KeyError: 'auc-mean' not found in cv_result. Returning 0.\n",
      "| \u001b[0m7        \u001b[0m | \u001b[0m0.0      \u001b[0m | \u001b[0m0.04806  \u001b[0m | \u001b[0m0.02929  \u001b[0m | \u001b[0m36.82    \u001b[0m | \u001b[0m9.832e+03\u001b[0m | \u001b[0m122.5    \u001b[0m | \u001b[0m3.768e+03\u001b[0m |\n",
      "KeyError: 'auc-mean' not found in cv_result. Returning 0.\n",
      "| \u001b[0m8        \u001b[0m | \u001b[0m0.0      \u001b[0m | \u001b[0m0.01196  \u001b[0m | \u001b[0m0.03594  \u001b[0m | \u001b[0m51.4     \u001b[0m | \u001b[0m9.818e+03\u001b[0m | \u001b[0m106.1    \u001b[0m | \u001b[0m35.5     \u001b[0m |\n",
      "KeyError: 'auc-mean' not found in cv_result. Returning 0.\n",
      "| \u001b[0m9        \u001b[0m | \u001b[0m0.0      \u001b[0m | \u001b[0m0.008425 \u001b[0m | \u001b[0m0.01004  \u001b[0m | \u001b[0m6.678    \u001b[0m | \u001b[0m9.732e+03\u001b[0m | \u001b[0m1.966e+03\u001b[0m | \u001b[0m75.88    \u001b[0m |\n",
      "KeyError: 'auc-mean' not found in cv_result. Returning 0.\n",
      "| \u001b[0m10       \u001b[0m | \u001b[0m0.0      \u001b[0m | \u001b[0m0.01737  \u001b[0m | \u001b[0m0.04135  \u001b[0m | \u001b[0m49.42    \u001b[0m | \u001b[0m2.261e+03\u001b[0m | \u001b[0m1.326e+03\u001b[0m | \u001b[0m381.9    \u001b[0m |\n",
      "KeyError: 'auc-mean' not found in cv_result. Returning 0.\n",
      "| \u001b[0m11       \u001b[0m | \u001b[0m0.0      \u001b[0m | \u001b[0m0.03642  \u001b[0m | \u001b[0m0.01869  \u001b[0m | \u001b[0m5.886    \u001b[0m | \u001b[0m1.458e+03\u001b[0m | \u001b[0m107.4    \u001b[0m | \u001b[0m3.902e+03\u001b[0m |\n",
      "KeyError: 'auc-mean' not found in cv_result. Returning 0.\n",
      "| \u001b[0m12       \u001b[0m | \u001b[0m0.0      \u001b[0m | \u001b[0m0.04123  \u001b[0m | \u001b[0m0.04528  \u001b[0m | \u001b[0m56.64    \u001b[0m | \u001b[0m9.884e+03\u001b[0m | \u001b[0m1.919e+03\u001b[0m | \u001b[0m3.991e+03\u001b[0m |\n",
      "=================================================================================================\n"
     ]
    }
   ],
   "source": [
    "def lgb_eval(num_leaves,max_depth,lambda_l2,lambda_l1,min_child_samples, min_data_in_leaf):\n",
    "  params = {\n",
    "    \"objective\" : \"binary\",\n",
    "    \"metric\" : \"auc\", # Make sure this matches the metric you want to optimize\n",
    "    'is_unbalance': True,\n",
    "    \"num_leaves\" : int(num_leaves),\n",
    "    \"max_depth\" : int(max_depth),\n",
    "    \"lambda_l2\" : lambda_l2,\n",
    "    \"lambda_l1\" : lambda_l1,\n",
    "    \"num_threads\" : 20,\n",
    "    \"min_child_samples\" : int(min_child_samples),\n",
    "    'min_data_in_leaf': int(min_data_in_leaf),\n",
    "    \"learning_rate\" : 0.03,\n",
    "    \"subsample_freq\" : 5,\n",
    "    \"bagging_seed\" : 42,\n",
    "    \"verbosity\" : -1\n",
    "  }\n",
    "  lgtrain = lightgbm.Dataset(X_train, y_train,categorical_feature=categorical_features)\n",
    "  cv_result = lightgbm.cv(params,\n",
    "                         lgtrain,\n",
    "                         1000, # Increase n_iter if necessary\n",
    "                         stratified=True,\n",
    "                         nfold=3)\n",
    "  \n",
    "  try:\n",
    "    # Get the last value of 'auc-mean' if available\n",
    "    return cv_result['auc-mean'][-1]\n",
    "  except KeyError:\n",
    "    # Handle the KeyError if 'auc-mean' is not available\n",
    "    print(\"KeyError: 'auc-mean' not found in cv_result. Returning 0.\")\n",
    "    return 0\n",
    "\n",
    "lgbBO = BayesianOptimization(lgb_eval, {'num_leaves': (25, 4000),\n",
    "                                        'max_depth': (5, 63),\n",
    "                                        'lambda_l2': (0.0, 0.05),\n",
    "                                        'lambda_l1': (0.0, 0.05),\n",
    "                                        'min_child_samples': (50, 10000),\n",
    "                                        'min_data_in_leaf': (100, 2000)\n",
    "                                        })\n",
    "\n",
    "lgbBO.maximize(n_iter=10, init_points=2)"
   ]
  },
  {
   "cell_type": "markdown",
   "metadata": {
    "colab_type": "text",
    "id": "rdkxhhST-KZS"
   },
   "source": [
    " **<font color='teal'> Print the best result by using the '.max' function.</font>**"
   ]
  },
  {
   "cell_type": "code",
   "execution_count": 26,
   "metadata": {
    "ExecuteTime": {
     "end_time": "2019-04-22T15:49:01.513767Z",
     "start_time": "2019-04-22T15:49:01.509392Z"
    },
    "colab": {},
    "colab_type": "code",
    "id": "oc8z6mfy-KZS"
   },
   "outputs": [
    {
     "data": {
      "text/plain": [
       "{}"
      ]
     },
     "execution_count": 26,
     "metadata": {},
     "output_type": "execute_result"
    }
   ],
   "source": [
    "lgbBO.max"
   ]
  },
  {
   "cell_type": "markdown",
   "metadata": {
    "ExecuteTime": {
     "end_time": "2019-04-22T15:50:29.049881Z",
     "start_time": "2019-04-22T15:50:29.045908Z"
    },
    "colab_type": "text",
    "id": "J5LAydKC-KZW"
   },
   "source": [
    "Review the process at each step by using the '.res[0]' function."
   ]
  },
  {
   "cell_type": "code",
   "execution_count": 27,
   "metadata": {
    "ExecuteTime": {
     "end_time": "2019-04-22T15:51:01.001688Z",
     "start_time": "2019-04-22T15:51:00.997484Z"
    },
    "colab": {},
    "colab_type": "code",
    "id": "X1ttZmrI-KZX"
   },
   "outputs": [
    {
     "ename": "IndexError",
     "evalue": "list index out of range",
     "output_type": "error",
     "traceback": [
      "\u001b[0;31m---------------------------------------------------------------------------\u001b[0m",
      "\u001b[0;31mIndexError\u001b[0m                                Traceback (most recent call last)",
      "Cell \u001b[0;32mIn[27], line 1\u001b[0m\n\u001b[0;32m----> 1\u001b[0m \u001b[43mlgbBO\u001b[49m\u001b[38;5;241;43m.\u001b[39;49m\u001b[43mres\u001b[49m\u001b[43m[\u001b[49m\u001b[38;5;241;43m0\u001b[39;49m\u001b[43m]\u001b[49m\n",
      "\u001b[0;31mIndexError\u001b[0m: list index out of range"
     ]
    }
   ],
   "source": [
    "lgbBO.res[0]"
   ]
  }
 ],
 "metadata": {
  "colab": {
   "name": "Bayesian_optimization_exercise.ipynb",
   "provenance": []
  },
  "deepnote_execution_queue": [],
  "kernelspec": {
   "display_name": "Python 3 (ipykernel)",
   "language": "python",
   "name": "python3"
  },
  "language_info": {
   "codemirror_mode": {
    "name": "ipython",
    "version": 3
   },
   "file_extension": ".py",
   "mimetype": "text/x-python",
   "name": "python",
   "nbconvert_exporter": "python",
   "pygments_lexer": "ipython3",
   "version": "3.11.4"
  },
  "varInspector": {
   "cols": {
    "lenName": 16,
    "lenType": 16,
    "lenVar": 40
   },
   "kernels_config": {
    "python": {
     "delete_cmd_postfix": "",
     "delete_cmd_prefix": "del ",
     "library": "var_list.py",
     "varRefreshCmd": "print(var_dic_list())"
    },
    "r": {
     "delete_cmd_postfix": ") ",
     "delete_cmd_prefix": "rm(",
     "library": "var_list.r",
     "varRefreshCmd": "cat(var_dic_list()) "
    }
   },
   "types_to_exclude": [
    "module",
    "function",
    "builtin_function_or_method",
    "instance",
    "_Feature"
   ],
   "window_display": false
  }
 },
 "nbformat": 4,
 "nbformat_minor": 4
}
